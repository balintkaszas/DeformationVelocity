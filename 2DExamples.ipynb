{
 "cells": [
  {
   "cell_type": "markdown",
   "id": "5c166e57",
   "metadata": {},
   "source": [
    "# Calculation of the deformation velocity \n",
    "\n",
    "\n",
    "In this notebook, we present explicit calculations with the deformation velocity $\\mathbf{v}_d$ associated to a given velocity field $\\mathbf{v}$. \n",
    "\n",
    "This is defined following a decomposition of the original velocity field into two components\n",
    "\n",
    "$$\n",
    "\\begin{equation}\n",
    "\\label{eq1}\n",
    "\\mathbf{v} = \\mathbf{v}_{RB} + \\mathbf{v}_{d},\n",
    "\\end{equation}\n",
    "$$\n",
    "\n",
    "where $\\mathbf{v}_{RB}$ is the rigid body-component of the velocity field and $\\mathbf{v}_d$ comes from deformations. \n",
    "We propose three criteria for defining $\\mathbf{v}_{RB}$\n",
    "\n",
    "- It should be a rigid body velocity field that is closest to the original velocity field in a physically relevant norm.\n",
    "\n",
    "- The deformation component, which we get by subtracting $\\mathbf{v}_{RB}$ from the original velocity field should be objective (or frame indifferent) in order to capture\n",
    "intrinsic features of the fluid (see Truesdell & Noll (2004)),\n",
    "\n",
    "- The deformation component should be observable: an appropriately chosen, single observer of the fluid flow should be able to measure this deformation velocity field over the whole domain.\n",
    "\n",
    "\n",
    "Our approach is based on looking for the $\\mathbf{v}_{RB}$ as the $L^{2}$ closest velocity field to the input velocity field $\\mathbf{v}$. Without loss of generality, the rigid-body velocity field $\\mathbf{v}_{RB}$ can be written as \n",
    "\n",
    "$$\n",
    "\\begin{equation}\n",
    "\\label{eq2}\n",
    "\\mathbf{v}_{RB} = \\bar{\\mathbf{v}} + \\boldsymbol{\\omega} \\times (\\mathbf{x} - \\bar{\\mathbf{x}}),\n",
    "\\end{equation}\n",
    "$$\n",
    "\n",
    "where the overbar denotes spatial averaging over a chosen domain $U \\in \\mathbb{R}^{3}$. We then minimize the functional defined as "
   ]
  },
  {
   "cell_type": "markdown",
   "id": "5ec2f935",
   "metadata": {},
   "source": [
    "$$\n",
    "L_{1}(\\boldsymbol{\\Omega},t) = \\frac{1}{M}\\int_{U}\\left\\{ \\left|\\mathbf{v}(\\mathbf{\\mathbf{x}},t)-\\dot{\\mathbf{x}}_{A}(t)-\\boldsymbol{\\Omega}(t)\\left(\\mathbf{x}-\\mathbf{x}_{A}(t)\\right)\\right|^{2}\\right\\}\\rho(\\mathbf{x},t)dV,\n",
    "$$\n",
    "\n",
    "where M is the total mass contained in the volume $U$ and $\\rho(\\mathbf{x},t)$ is the density.\n",
    "\n",
    "A unique minimizing angular velocity exists and can be written as\n",
    "$$\n",
    "\\boldsymbol{\\omega}=M\\boldsymbol{\\Theta}^{-1}\\overline{(\\mathbf{x}-\\bar{\\mathbf{x}})\\times(\\mathbf{v}-\\bar{\\mathbf{v}})},\n",
    "$$\n",
    "\n",
    "with the moment of inertia tensor defined as \n",
    "\n",
    "$$\n",
    "\\boldsymbol{\\Theta} = M\\overline{\\left(\\left|\\mathbf{x}-\\bar{\\mathbf{x}}\\right|^{2}\\right)\\mathbf{I}-(\\mathbf{x}-\\bar{\\mathbf{x}})\\otimes(\\mathbf{x}-\\bar{\\mathbf{x}})}.\n",
    "$$"
   ]
  },
  {
   "cell_type": "markdown",
   "id": "f3b822fa",
   "metadata": {},
   "source": [
    "In the following sections, we calculate the minimizing $\\boldsymbol{\\omega}$ and through it, the deformation velocity $$\n",
    "\\begin{equation}\n",
    "\\label{eq3}\n",
    "\\mathbf{v}_d = \\mathbf{v} - \\bar{\\mathbf{v}} - \\boldsymbol{\\omega} \\times (\\mathbf{x} - \\bar{\\mathbf{x}}).\n",
    "\\end{equation}\n",
    "$$\n",
    "\n",
    "As shown in Kaszás, Pedergnana, & Haller (2022), the deformation velocity field defined in (3) is objective. This means, that an observer in the rotating $\\mathbf{y}-$ frame will measure the velocity to be \n",
    "\n",
    "$$\n",
    "\\hat{\\mathbf{v}} = \\mathbf{Q}^T(t)\\mathbf{v},\n",
    "$$\n",
    "\n",
    "if the (stationary) $\\mathbf{x}-$ and (rotating and translating) $\\mathbf{y}-$ frames are related by\n",
    "\n",
    "$$\n",
    "\\mathbf{x} = \\mathbf{Q}(t)\\mathbf{y} + \\mathbf{b}(t).\n",
    "$$"
   ]
  },
  {
   "cell_type": "markdown",
   "id": "b0c94139",
   "metadata": {},
   "source": [
    "# Two-dimensional examples "
   ]
  },
  {
   "cell_type": "markdown",
   "id": "e2f4772f",
   "metadata": {},
   "source": [
    "We first consider two-dimensional examples. Whenever the velocity fields are given in analytic form, we do the calculations symbolically with the help of ```SymPy```. \n",
    "\n",
    "The examples we consider are\n",
    "\n",
    "- Explicit, polynomial solutions to the Navier-Stokes equations\n",
    "\n",
    "- A model of a rotating gyre, given by a time dependent stream function\n",
    "\n",
    "- Ocean surface velocity field in the Gulf Stream region"
   ]
  },
  {
   "cell_type": "markdown",
   "id": "dcdecd87",
   "metadata": {},
   "source": []
  }
 ],
 "metadata": {
  "hide_input": false,
  "kernelspec": {
   "display_name": "Python 3 (ipykernel)",
   "language": "python",
   "name": "python3"
  },
  "language_info": {
   "codemirror_mode": {
    "name": "ipython",
    "version": 3
   },
   "file_extension": ".py",
   "mimetype": "text/x-python",
   "name": "python",
   "nbconvert_exporter": "python",
   "pygments_lexer": "ipython3",
   "version": "3.8.8"
  },
  "toc": {
   "base_numbering": 1,
   "nav_menu": {},
   "number_sections": true,
   "sideBar": true,
   "skip_h1_title": false,
   "title_cell": "Table of Contents",
   "title_sidebar": "Contents",
   "toc_cell": false,
   "toc_position": {},
   "toc_section_display": true,
   "toc_window_display": false
  }
 },
 "nbformat": 4,
 "nbformat_minor": 5
}
