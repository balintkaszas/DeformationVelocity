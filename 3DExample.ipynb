{
 "cells": [
  {
   "cell_type": "markdown",
   "id": "7fd8053d",
   "metadata": {},
   "source": [
    "# Calculation of the deformation velocity \n",
    "\n",
    "\n",
    "In this notebook, we present explicit calculations with the deformation velocity $\\mathbf{v}_d$ associated to a given velocity field $\\mathbf{v}$. \n",
    "\n",
    "This is defined following a decomposition of the original velocity field into two components\n",
    "\n",
    "$$\n",
    "\\begin{equation}\n",
    "\\label{eq1}\n",
    "\\mathbf{v} = \\mathbf{v}_{RB} + \\mathbf{v}_{d},\n",
    "\\end{equation}\n",
    "$$\n",
    "\n",
    "where $\\mathbf{v}_{RB}$ is the rigid body-component of the velocity field and $\\mathbf{v}_d$ comes from deformations. \n",
    "We propose three criteria for defining $\\mathbf{v}_{RB}$\n",
    "\n",
    "- It should be a rigid body velocity field that is closest to the original velocity field in a physically relevant norm.\n",
    "\n",
    "- The deformation component, which we get by subtracting $\\mathbf{v}_{RB}$ from the original velocity field should be objective (or frame indifferent) in order to capture\n",
    "intrinsic features of the fluid (see Truesdell & Noll (2004)),\n",
    "\n",
    "- The deformation component should be observable: an appropriately chosen, single observer of the fluid flow should be able to measure this deformation velocity field over the whole domain.\n",
    "\n",
    "\n",
    "Our approach is based on looking for the $\\mathbf{v}_{RB}$ as the $L^{2}$ closest velocity field to the input velocity field $\\mathbf{v}$. Without loss of generality, the rigid-body velocity field $\\mathbf{v}_{RB}$ can be written as \n",
    "\n",
    "$$\n",
    "\\begin{equation}\n",
    "\\label{eq2}\n",
    "\\mathbf{v}_{RB} = \\bar{\\mathbf{v}} + \\boldsymbol{\\omega} \\times (\\mathbf{x} - \\bar{\\mathbf{x}}),\n",
    "\\end{equation}\n",
    "$$\n",
    "\n",
    "where the overbar denotes spatial averaging over a chosen domain $U \\in \\mathbb{R}^{3}$. We then minimize the functional defined as "
   ]
  },
  {
   "cell_type": "markdown",
   "id": "0bfc3fa8",
   "metadata": {},
   "source": [
    "$$\n",
    "L_{1}(\\boldsymbol{\\Omega},t) = \\frac{1}{M}\\int_{U}\\left\\{ \\left|\\mathbf{v}(\\mathbf{\\mathbf{x}},t)-\\dot{\\mathbf{x}}_{A}(t)-\\boldsymbol{\\Omega}(t)\\left(\\mathbf{x}-\\mathbf{x}_{A}(t)\\right)\\right|^{2}\\right\\}\\rho(\\mathbf{x},t)dV,\n",
    "$$\n",
    "\n",
    "where M is the total mass contained in the volume $U$ and $\\rho(\\mathbf{x},t)$ is the density.\n",
    "\n",
    "A unique minimizing angular velocity exists and can be written as\n",
    "$$\n",
    "\\boldsymbol{\\omega}=M\\boldsymbol{\\Theta}^{-1}\\overline{(\\mathbf{x}-\\bar{\\mathbf{x}})\\times(\\mathbf{v}-\\bar{\\mathbf{v}})},\n",
    "$$\n",
    "\n",
    "with the moment of inertia tensor defined as \n",
    "\n",
    "$$\n",
    "\\boldsymbol{\\Theta} = M\\overline{\\left(\\left|\\mathbf{x}-\\bar{\\mathbf{x}}\\right|^{2}\\right)\\mathbf{I}-(\\mathbf{x}-\\bar{\\mathbf{x}})\\otimes(\\mathbf{x}-\\bar{\\mathbf{x}})}.\n",
    "$$"
   ]
  },
  {
   "cell_type": "markdown",
   "id": "5de9ea77",
   "metadata": {},
   "source": [
    "In the following sections, we calculate the minimizing $\\boldsymbol{\\omega}$ and through it, the deformation velocity $$\n",
    "\\begin{equation}\n",
    "\\label{eq3}\n",
    "\\mathbf{v}_d = \\mathbf{v} - \\bar{\\mathbf{v}} - \\boldsymbol{\\omega} \\times (\\mathbf{x} - \\bar{\\mathbf{x}}).\n",
    "\\end{equation}\n",
    "$$\n",
    "\n",
    "As shown in Kaszás, Pedergnana, & Haller (2022), the deformation velocity field defined in (3) is objective. This means, that an observer in the rotating $\\mathbf{y}-$ frame will measure the velocity to be \n",
    "\n",
    "$$\n",
    "\\hat{\\mathbf{v}} = \\mathbf{Q}^T(t)\\mathbf{v},\n",
    "$$\n",
    "\n",
    "if the (stationary) $\\mathbf{x}-$ and (rotating and translating) $\\mathbf{y}-$ frames are related by\n",
    "\n",
    "$$\n",
    "\\mathbf{x} = \\mathbf{Q}(t)\\mathbf{y} + \\mathbf{b}(t).\n",
    "$$"
   ]
  },
  {
   "cell_type": "markdown",
   "id": "f35acd11",
   "metadata": {},
   "source": [
    "# Three-dimensional examples"
   ]
  },
  {
   "cell_type": "code",
   "execution_count": 3,
   "id": "f396ef96",
   "metadata": {},
   "outputs": [],
   "source": [
    "from sympy import latex\n",
    "from IPython.display import display_latex\n",
    "\n",
    "## The following helper function is used for displaying variables in latex form\n",
    "def disp(idx, symObj):\n",
    "    eqn = '\\\\[' + idx + ' = ' + latex(symObj) + '\\\\]'\n",
    "    display_latex(eqn,raw=True)\n",
    "    return"
   ]
  },
  {
   "cell_type": "code",
   "execution_count": 4,
   "id": "349ee866",
   "metadata": {},
   "outputs": [],
   "source": [
    "import sympy as sy\n",
    "import sympy.vector\n",
    "R = sy.vector.CoordSys3D('R')"
   ]
  },
  {
   "cell_type": "code",
   "execution_count": 16,
   "id": "86b4e733",
   "metadata": {},
   "outputs": [],
   "source": [
    "x1, x2, x3, t = sy.symbols('x_1,x_2,x_3,t')\n",
    "a = sy.symbols('a', positive=True)"
   ]
  },
  {
   "cell_type": "markdown",
   "id": "0ce88506",
   "metadata": {},
   "source": [
    "We demonstrate here how the deformation velocity could be calculated for 3D flows. We will consider the ABC flow as a starting point."
   ]
  },
  {
   "cell_type": "markdown",
   "id": "4878c860",
   "metadata": {},
   "source": [
    " This is given as\n"
   ]
  },
  {
   "cell_type": "code",
   "execution_count": 18,
   "id": "5a02da2a",
   "metadata": {},
   "outputs": [
    {
     "data": {
      "text/latex": [
       "\\[\\mathbf{v}(x_1,x_2,x_3) = \\left[\\begin{matrix}A \\sin{\\left(x_{3} \\right)} + C \\cos{\\left(x_{2} \\right)}\\\\A \\cos{\\left(x_{3} \\right)} + B \\sin{\\left(x_{1} \\right)}\\\\B \\cos{\\left(x_{1} \\right)} + C \\sin{\\left(x_{2} \\right)}\\end{matrix}\\right]\\]"
      ]
     },
     "metadata": {},
     "output_type": "display_data"
    }
   ],
   "source": [
    "A, B, C = sy.symbols('A B C')\n",
    "velocityABC = (A*sy.sin(R.z) + C*sy.cos(R.y))*R.i + (B*sy.sin(R.x) + A*sy.cos(R.z))*R.j + (C*sy.sin(R.y) + B*sy.cos(R.x))*R.k\n",
    "position = R.x * R.i + R.y * R.j + R.z * R.k\n",
    "velocityABCOrig = velocityABC.to_matrix(R).subs([(R.x, x1), (R.y, x2), (R.z, x3)])\n",
    "disp('\\\\mathbf{v}(x_1,x_2,x_3)', velocityABCOrig)"
   ]
  },
  {
   "cell_type": "markdown",
   "id": "444a113e",
   "metadata": {},
   "source": [
    "\n",
    "A standard choice for the parameters is $A = \\sqrt{3}$, $B = \\sqrt{2}$ and $C=1$.\n"
   ]
  },
  {
   "cell_type": "markdown",
   "id": "0c0ff835",
   "metadata": {},
   "source": [
    "- We transform the steady velocity field to a rotating frame and show that the classic kinetic energy $\\frac{1}{2}\\langle\\mathbf{v}, \\mathbf{v}\\rangle$ is heavily influenced by the rotation of the reference frame\n",
    "\n",
    "- Then we calculate the objective version, the deformation kinetic energy  $E_d = \\frac{1}{2}\\langle \\mathbf{v}_d, \\mathbf{v}_d\\rangle$\n",
    "\n",
    "- This can be explicitly verified that the deformation energy remains the same in the rotating reference frame."
   ]
  },
  {
   "cell_type": "code",
   "execution_count": 102,
   "id": "656c2d48",
   "metadata": {},
   "outputs": [],
   "source": [
    "def average_overDomain3D(quantity, variables, domainX, domainY, domainZ):\n",
    "    xmin, xmax = domainX\n",
    "    ymin, ymax = domainY\n",
    "    zmin, zmax = domainZ\n",
    "    domainSize = (xmax - xmin) * (ymax - ymin) * (zmax - zmin)\n",
    "    \n",
    "    return sy.Matrix(\n",
    "        [sy.integrate(quantity[i], (variables[0], xmin, xmax), \n",
    "                        (variables[1], ymin, ymax),\n",
    "                        (variables[2], zmin, zmax)).doit() / (domainSize) for i in range(len(quantity))])\n",
    "\n",
    "\n"
   ]
  },
  {
   "cell_type": "code",
   "execution_count": 81,
   "id": "9436377f",
   "metadata": {},
   "outputs": [],
   "source": [
    "def InertiaTensor( domainX, domainY, domainZ):\n",
    "    # calculate integration limits\n",
    "\n",
    "    xmin, xmax = domainX\n",
    "    ymin, ymax = domainY\n",
    "    zmin, zmax = domainZ\n",
    "    xmid = 0.5* (xmin + xmax)\n",
    "    ymid = 0.5* (ymin + ymax)\n",
    "    zmid = 0.5* (zmin + zmax)\n",
    "    domainSize = (xmax - xmin) * (ymax - ymin) * (zmax - zmin)\n",
    "    \n",
    "    \n",
    "    position = sy.Matrix([x - xmid,y - ymid,z - zmid])\n",
    "    positionsq = (x - xmid)**2 + (y - ymid)**2 + (z - zmid)**2\n",
    "    inertia = positionsq * sy.eye(3)- position * sy.transpose(position)\n",
    "    # do the integration in the y and then the x and z directions.     \n",
    "    inertiaAvgy = sy.integrate(inertia, (y, ymin, ymax)).doit()\n",
    "    inertiaAvgx = sy.integrate(inertiaAvgy, (x, xmin, xmax)).doit()\n",
    "    averageInertia = sy.simplify(sy.integrate(inertiaAvgx, (z, zmin, zmax)) / (domainSize))\n",
    "    return sy.Matrix(3,3, averageInertia) \n",
    "\n",
    "\n",
    "\n"
   ]
  },
  {
   "cell_type": "code",
   "execution_count": 105,
   "id": "0d5527c4",
   "metadata": {},
   "outputs": [],
   "source": [
    "def angularMomentum3D(velocity, variables,  domainX, domainY, domainZ):\n",
    "    # Calculate the right hand side of omega's defining equation\n",
    "    position = sy.Matrix([*variables])\n",
    "    # this is exactly the average angular momentum. \n",
    "    v_avg = average_overDomain3D(velocity, variables,  domainX, domainY, domainZ)\n",
    "    angularMoment = position.cross(velocity - v_avg) # need to specify the reference frame due to the cross \n",
    "    return sy.simplify(average_overDomain3D(angularMoment, variables,  domainX, domainY, domainZ))"
   ]
  },
  {
   "cell_type": "code",
   "execution_count": 9,
   "id": "b7ab4699",
   "metadata": {},
   "outputs": [],
   "source": [
    "def calculateOmega(Inertiatensor, angularmomentum):\n",
    "    return Inertiatensor.inv() * angularmomentum"
   ]
  },
  {
   "cell_type": "code",
   "execution_count": 10,
   "id": "ddaf87e6",
   "metadata": {},
   "outputs": [],
   "source": [
    "def relativeVelocity3D(velocity, variables, omega, domainX, domainY, domainZ):\n",
    "    position = sy.Matrix(variables)\n",
    "    vAvg = average_overDomain3D(velocity, variables, domainX, domainY, domainZ)\n",
    "    return sy.simplify(velocity - vAvg - omega.cross(position))"
   ]
  },
  {
   "cell_type": "markdown",
   "id": "536864ea",
   "metadata": {},
   "source": [
    "We now transform the ABC flow to a coordinate system defined as \n",
    "\n",
    "$$\n",
    "\\mathbf{x}=\\mathbf{Q}(t)\\mathbf{y}\n",
    "$$"
   ]
  },
  {
   "cell_type": "code",
   "execution_count": 21,
   "id": "d07052f9",
   "metadata": {},
   "outputs": [
    {
     "data": {
      "text/latex": [
       "\\[\\mathbf{Q}(t) = \\left[\\begin{matrix}\\cos{\\left(5 t \\right)} & - \\sin{\\left(5 t \\right)} & 0\\\\\\sin{\\left(5 t \\right)} & \\cos{\\left(5 t \\right)} & 0\\\\0 & 0 & 1\\end{matrix}\\right]\\]"
      ]
     },
     "metadata": {},
     "output_type": "display_data"
    }
   ],
   "source": [
    "\n",
    "Q = sy.Matrix([[sy.cos(-5*t), sy.sin(-5*t), 0], [-sy.sin(-5*t), sy.cos(-5*t), 0], [0,0,1]]) \n",
    "disp('\\\\mathbf{Q}(t)', Q)"
   ]
  },
  {
   "cell_type": "code",
   "execution_count": 33,
   "id": "255e1a3f",
   "metadata": {},
   "outputs": [],
   "source": [
    "y1, y2, y3 = sy.symbols('y_1 y_2 y_3')\n",
    "YPos = sy.Matrix([y1,y2,y3])\n",
    "\n",
    "\n",
    "XPos = Q @ YPos"
   ]
  },
  {
   "cell_type": "code",
   "execution_count": 34,
   "id": "64317a3b",
   "metadata": {},
   "outputs": [
    {
     "data": {
      "text/latex": [
       "\\[(x_1, x_2, x_3)^T = \\left[\\begin{matrix}y_{1} \\cos{\\left(5 t \\right)} - y_{2} \\sin{\\left(5 t \\right)}\\\\y_{1} \\sin{\\left(5 t \\right)} + y_{2} \\cos{\\left(5 t \\right)}\\\\y_{3}\\end{matrix}\\right]\\]"
      ]
     },
     "metadata": {},
     "output_type": "display_data"
    }
   ],
   "source": [
    "disp('(x_1, x_2, x_3)^T',XPos)\n"
   ]
  },
  {
   "cell_type": "markdown",
   "id": "8a8e6fe1",
   "metadata": {},
   "source": [
    "The velocity field in the $\\mathbf{y}$ frame is\n",
    "\n",
    "$$\n",
    "\\dot{\\mathbf{y}} = \\mathbf{Q}^T(t)\\left[ \\mathbf{v}(\\mathbf{Q}(t)\\mathbf{y})- \\dot{\\mathbf{Q}}(t)\\mathbf{y}\\right]\n",
    "$$"
   ]
  },
  {
   "cell_type": "code",
   "execution_count": 36,
   "id": "2af744c5",
   "metadata": {},
   "outputs": [],
   "source": [
    "velocitySwappedArguments = velocityABCOrig.subs([(x1, XPos[0]), (x2, XPos[1]), (x3, XPos[2])]) ## this is v(Qy)\n",
    "vTransformed = Q.T@(velocitySwappedArguments - Q.diff(t)@YPos) ## Q^T(v(Qy) - Q'y)"
   ]
  },
  {
   "cell_type": "code",
   "execution_count": 37,
   "id": "1482b53d",
   "metadata": {},
   "outputs": [
    {
     "data": {
      "text/latex": [
       "\\[(\\dot{y_1}, \\dot{y_2}, \\dot{y_3})^T = \\left[\\begin{matrix}\\left(A \\sin{\\left(y_{3} \\right)} + C \\cos{\\left(y_{1} \\sin{\\left(5 t \\right)} + y_{2} \\cos{\\left(5 t \\right)} \\right)} + 5 y_{1} \\sin{\\left(5 t \\right)} + 5 y_{2} \\cos{\\left(5 t \\right)}\\right) \\cos{\\left(5 t \\right)} + \\left(A \\cos{\\left(y_{3} \\right)} + B \\sin{\\left(y_{1} \\cos{\\left(5 t \\right)} - y_{2} \\sin{\\left(5 t \\right)} \\right)} - 5 y_{1} \\cos{\\left(5 t \\right)} + 5 y_{2} \\sin{\\left(5 t \\right)}\\right) \\sin{\\left(5 t \\right)}\\\\- \\left(A \\sin{\\left(y_{3} \\right)} + C \\cos{\\left(y_{1} \\sin{\\left(5 t \\right)} + y_{2} \\cos{\\left(5 t \\right)} \\right)} + 5 y_{1} \\sin{\\left(5 t \\right)} + 5 y_{2} \\cos{\\left(5 t \\right)}\\right) \\sin{\\left(5 t \\right)} + \\left(A \\cos{\\left(y_{3} \\right)} + B \\sin{\\left(y_{1} \\cos{\\left(5 t \\right)} - y_{2} \\sin{\\left(5 t \\right)} \\right)} - 5 y_{1} \\cos{\\left(5 t \\right)} + 5 y_{2} \\sin{\\left(5 t \\right)}\\right) \\cos{\\left(5 t \\right)}\\\\B \\cos{\\left(y_{1} \\cos{\\left(5 t \\right)} - y_{2} \\sin{\\left(5 t \\right)} \\right)} + C \\sin{\\left(y_{1} \\sin{\\left(5 t \\right)} + y_{2} \\cos{\\left(5 t \\right)} \\right)}\\end{matrix}\\right]\\]"
      ]
     },
     "metadata": {},
     "output_type": "display_data"
    }
   ],
   "source": [
    "disp('(\\\\dot{y_1}, \\\\dot{y_2}, \\\\dot{y_3})^T',vTransformed)\n"
   ]
  },
  {
   "cell_type": "markdown",
   "id": "5cb202b5",
   "metadata": {},
   "source": [
    "### Comparing the kinetic energy observed in the two different reference frames"
   ]
  },
  {
   "cell_type": "markdown",
   "id": "6933c4ad",
   "metadata": {},
   "source": [
    "In the original, $\\mathbf{x}-$ frame, we have\n",
    "$$\n",
    "E(\\mathbf{x}) = \\frac{1}{2}\\langle\\dot{\\mathbf{x}}, \\dot{\\mathbf{x}} \\rangle.\n",
    "$$\n",
    "\n",
    "In the rotating, $\\mathbf{y}-$ frame\n",
    "$$\n",
    "\\hat{E}(\\mathbf{y},t) = \\frac{1}{2}\\langle\\dot{\\mathbf{y}}, \\dot{\\mathbf{y}} \\rangle\n",
    "$$\n",
    "\n"
   ]
  },
  {
   "cell_type": "markdown",
   "id": "95b254ad",
   "metadata": {},
   "source": [
    "Let's view it in the $x_3=y_3=\\pi$ plane, which is normal to the axis of rotation"
   ]
  },
  {
   "cell_type": "code",
   "execution_count": 73,
   "id": "9771b824",
   "metadata": {},
   "outputs": [],
   "source": [
    "E_inXframe = velocityABCOrig.T@velocityABCOrig*0.5 ## E in the original, x frame\n",
    "# substitute the standard parameters:\n",
    "E_inXframe = E_inXframe.subs([(A, sy.sqrt(3)), (B, sy.sqrt(2)), (C,1)])\n",
    "\n",
    "E_inXframe_numpy = sy.lambdify((t, x1, x2, x3), E_inXframe, 'numpy')\n",
    "\n",
    "\n",
    "E_inYframe = vTransformed.T@vTransformed*0.5 ## E in the transformed, y frame\n",
    "E_inYframe = E_inYframe.subs([(A, sy.sqrt(3)), (B, sy.sqrt(2)), (C,1)])\n",
    "E_inYframe_numpy = sy.lambdify((t, y1, y2, y3), E_inYframe, 'numpy')\n"
   ]
  },
  {
   "cell_type": "code",
   "execution_count": 74,
   "id": "df8a5c0e",
   "metadata": {},
   "outputs": [
    {
     "data": {
      "text/plain": [
       "<matplotlib.colorbar.Colorbar at 0x7fc83d8e05e0>"
      ]
     },
     "execution_count": 74,
     "metadata": {},
     "output_type": "execute_result"
    },
    {
     "data": {
      "image/png": "[encoded data removed]",
      "text/plain": [
       "<Figure size 864x288 with 6 Axes>"
      ]
     },
     "metadata": {
      "needs_background": "light"
     },
     "output_type": "display_data"
    }
   ],
   "source": [
    "import numpy as np\n",
    "import matplotlib.pyplot as plt\n",
    "size = np.pi\n",
    "\n",
    "fig = plt.figure(figsize = (12,4))\n",
    "ax = fig.add_subplot(131)\n",
    "ax2 = fig.add_subplot(132)\n",
    "ax3 = fig.add_subplot(133)\n",
    "\n",
    "\n",
    "# look at the energy plotted over the z=pi section\n",
    "\n",
    "xx = np.linspace(-np.pi, np.pi, 100)\n",
    "yy = np.linspace(-np.pi, np.pi, 100)\n",
    "\n",
    "[X,Y] = np.meshgrid(xx, yy)\n",
    "\n",
    "image1 = ax.contourf(xx,yy, np.squeeze(E_inXframe_numpy(0, X,Y,np.pi)))\n",
    "ax.set_xlabel('$x_1$')\n",
    "ax.set_ylabel('$x_2$', rotation=0)\n",
    "ax.set_title('$E(\\mathbf{x})$')\n",
    "plt.colorbar(image1, ax = ax)\n",
    "\n",
    "image2 = ax2.contourf(xx,xx, np.squeeze(E_inYframe_numpy(0, X,Y,np.pi)))\n",
    "ax2.set_xlabel('$y_1$')\n",
    "ax2.set_ylabel('$y_2$', rotation=0)\n",
    "ax2.set_title('$\\\\hat{E}(\\mathbf{y},t=0)$')\n",
    "plt.colorbar(image2, ax = ax2)\n",
    "\n",
    "\n",
    "image3 = ax3.contourf(xx,xx, np.squeeze(E_inYframe_numpy(np.pi/10, X,Y,np.pi)))\n",
    "ax3.set_xlabel('$y_1$')\n",
    "ax3.set_ylabel('$y_2$', rotation=0)\n",
    "ax3.set_title('$\\\\hat{E}(\\mathbf{y},t=\\\\pi/10)$')\n",
    "plt.colorbar(image3, ax = ax3)\n"
   ]
  },
  {
   "cell_type": "markdown",
   "id": "3b66a43d",
   "metadata": {},
   "source": [
    "### We now calculate the deformation velocity in both the $\\mathbf{x}-$  and $\\mathbf{y}-$ frames"
   ]
  },
  {
   "cell_type": "code",
   "execution_count": 82,
   "id": "8f912f63",
   "metadata": {},
   "outputs": [],
   "source": [
    "a = sy.pi"
   ]
  },
  {
   "cell_type": "code",
   "execution_count": 83,
   "id": "5269e507",
   "metadata": {},
   "outputs": [],
   "source": [
    "I = InertiaTensor([-a, a], [-a, a], [-a, a])\n"
   ]
  },
  {
   "cell_type": "markdown",
   "id": "f1598947",
   "metadata": {},
   "source": [
    "The moment of inertia tensor looks like \n"
   ]
  },
  {
   "cell_type": "code",
   "execution_count": 89,
   "id": "0f418ff3",
   "metadata": {},
   "outputs": [
    {
     "data": {
      "text/latex": [
       "\\[\\boldsymbol{\\Theta}_x = \\left[\\begin{matrix}\\frac{2 \\pi^{2}}{3} & 0 & 0\\\\0 & \\frac{2 \\pi^{2}}{3} & 0\\\\0 & 0 & \\frac{2 \\pi^{2}}{3}\\end{matrix}\\right]\\]"
      ]
     },
     "metadata": {},
     "output_type": "display_data"
    }
   ],
   "source": [
    "disp('\\\\boldsymbol{\\\\Theta}_x', I)"
   ]
  },
  {
   "cell_type": "code",
   "execution_count": 116,
   "id": "ff8e6263",
   "metadata": {},
   "outputs": [
    {
     "data": {
      "text/latex": [
       "\\[\\boldsymbol{\\omega} = \\left[\\begin{matrix}\\frac{3 C}{2 \\pi^{2}}\\\\\\frac{3 A}{2 \\pi^{2}}\\\\\\frac{3 B}{2 \\pi^{2}}\\end{matrix}\\right]\\]"
      ]
     },
     "metadata": {},
     "output_type": "display_data"
    },
    {
     "data": {
      "text/latex": [
       "\\[\\mathbf{v}_d(\\mathbf{x}) = \\left[\\begin{matrix}\\frac{- 3 A x_{3} + 3 B x_{2} + 2 \\pi^{2} \\left(A \\sin{\\left(x_{3} \\right)} + C \\cos{\\left(x_{2} \\right)}\\right)}{2 \\pi^{2}}\\\\\\frac{- 3 B x_{1} + 3 C x_{3} + 2 \\pi^{2} \\left(A \\cos{\\left(x_{3} \\right)} + B \\sin{\\left(x_{1} \\right)}\\right)}{2 \\pi^{2}}\\\\\\frac{3 A x_{1} - 3 C x_{2} + 2 \\pi^{2} \\left(B \\cos{\\left(x_{1} \\right)} + C \\sin{\\left(x_{2} \\right)}\\right)}{2 \\pi^{2}}\\end{matrix}\\right]\\]"
      ]
     },
     "metadata": {},
     "output_type": "display_data"
    }
   ],
   "source": [
    "L = angularMomentum3D(velocityABCOrig, [x1,x2,x3], [-a,a], [-a,a], [-a,a])\n",
    "omega = calculateOmega(I, L)\n",
    "disp('\\\\boldsymbol{\\omega}',omega)\n",
    "vdefXframe = relativeVelocity3D(velocityABCOrig, [x1,x2,x3], omega, [-a,a], [-a,a], [-a,a])\n",
    "disp('\\\\mathbf{v}_d(\\\\mathbf{x})', vdefXframe)"
   ]
  },
  {
   "cell_type": "markdown",
   "id": "987d4fd5",
   "metadata": {},
   "source": [
    "to simplify, we will look at the snapshots $t=0$ and $t=\\pi/10$"
   ]
  },
  {
   "cell_type": "code",
   "execution_count": 121,
   "id": "20b6ce2f",
   "metadata": {},
   "outputs": [
    {
     "data": {
      "text/latex": [
       "\\[\\boldsymbol{\\omega}_{t=0} = \\left[\\begin{matrix}\\frac{3 C}{2 \\pi^{2}}\\\\\\frac{3 A}{2 \\pi^{2}}\\\\\\frac{3 B}{2 \\pi^{2}} - 5\\end{matrix}\\right]\\]"
      ]
     },
     "metadata": {},
     "output_type": "display_data"
    }
   ],
   "source": [
    "# t= 0\n",
    "\n",
    "t0 = 0 \n",
    "L0 = angularMomentum3D(vTransformed.subs(t,t0), [y1,y2,y3], [-a,a], [-a,a], [-a,a])\n",
    "omega0 = sy.simplify(calculateOmega(I, L0))\n",
    "disp('\\\\boldsymbol{\\omega}_{t=0}',omega0)\n",
    "vdefYframe_t0 = relativeVelocity3D(vTransformed.subs(t,t0), [y1,y2,y3], omega0, [-a,a], [-a,a], [-a,a])"
   ]
  },
  {
   "cell_type": "code",
   "execution_count": 122,
   "id": "96a67ba1",
   "metadata": {},
   "outputs": [
    {
     "data": {
      "text/latex": [
       "\\[\\boldsymbol{\\omega}_{t=\\pi/10} = \\left[\\begin{matrix}\\frac{3 A}{2 \\pi^{2}}\\\\- \\frac{3 C}{2 \\pi^{2}}\\\\\\frac{3 B}{2 \\pi^{2}} - 5\\end{matrix}\\right]\\]"
      ]
     },
     "metadata": {},
     "output_type": "display_data"
    }
   ],
   "source": [
    "# t= 0\n",
    "\n",
    "t1 = sy.pi/10 \n",
    "L1 = angularMomentum3D(vTransformed.subs(t,t1), [y1,y2,y3], [-a,a], [-a,a], [-a,a])\n",
    "omega1 = sy.simplify(calculateOmega(I, L1))\n",
    "disp('\\\\boldsymbol{\\omega}_{t=\\pi/10}',omega1)\n",
    "vdefYframe_t1 = relativeVelocity3D(vTransformed.subs(t,t1), [y1,y2,y3], omega1, [-a,a], [-a,a], [-a,a])"
   ]
  },
  {
   "cell_type": "code",
   "execution_count": 123,
   "id": "63fab940",
   "metadata": {},
   "outputs": [],
   "source": [
    "E_def_inXframe = vdefXframe.T @ vdefXframe * 0.5 ## E in the original, x frame\n",
    "# substitute the standard parameters:\n",
    "E_def_inXframe = E_def_inXframe.subs([(A, sy.sqrt(3)), (B, sy.sqrt(2)), (C,1)])\n",
    "\n",
    "E_def_inXframe_numpy = sy.lambdify((x1, x2, x3), E_def_inXframe, 'numpy')\n",
    "\n",
    "\n",
    "\n",
    "E_def_inYframe_t0 = vdefYframe_t0.T@vdefYframe_t0 * 0.5 ## E in the transformed, y frame\n",
    "E_def_inYframe_t0 = E_def_inYframe_t0.subs([(A, sy.sqrt(3)), (B, sy.sqrt(2)), (C,1)])\n",
    "E_def_inYframe_numpy_t0 = sy.lambdify((y1, y2, y3), E_def_inYframe_t0, 'numpy')\n",
    "\n",
    "\n",
    "\n",
    "# t = \\pi/10\n",
    "E_def_inYframe_t1 = vdefYframe_t1.T @ vdefYframe_t1 * 0.5 ## E in the transformed, y frame\n",
    "E_def_inYframe_t1 = E_def_inYframe_t1.subs([(A, sy.sqrt(3)), (B, sy.sqrt(2)), (C, 1)])\n",
    "E_def_inYframe_numpy_t1 = sy.lambdify((y1, y2, y3), E_def_inYframe_t1, 'numpy')\n"
   ]
  },
  {
   "cell_type": "markdown",
   "id": "749f4e9c",
   "metadata": {},
   "source": [
    " The deformation kinetic energies are objective, since\n",
    " \n",
    " \n",
    " $$\n",
    " E_d(\\mathbf{x}) = \\frac{1}{2} \\langle\\mathbf{v}_d,\\mathbf{v}_d \\rangle\n",
    " $$\n",
    " \n",
    " \n",
    " \n",
    " $$\n",
    " \\hat{E}_d(\\mathbf{Q}\\mathbf{x}) = \\frac{1}{2} \\langle \\hat{\\mathbf{v}}_d,\\hat{\\mathbf{v}}_d \\rangle = \\frac{1}{2} \\langle \\mathbf{Q}^T{\\mathbf{v}}_d,\\mathbf{Q}^T{\\mathbf{v}}_d \\rangle = \\frac{1}{2} \\langle {\\mathbf{v}}_d,{\\mathbf{v}}_d \\rangle = E_d(\\mathbf{x})\n",
    " $$"
   ]
  },
  {
   "cell_type": "code",
   "execution_count": 127,
   "id": "98c3c929",
   "metadata": {},
   "outputs": [
    {
     "data": {
      "text/plain": [
       "<matplotlib.colorbar.Colorbar at 0x7fc7e91a1d90>"
      ]
     },
     "execution_count": 127,
     "metadata": {},
     "output_type": "execute_result"
    },
    {
     "data": {
      "image/png": "[encoded data removed]",
      "text/plain": [
       "<Figure size 864x288 with 6 Axes>"
      ]
     },
     "metadata": {
      "needs_background": "light"
     },
     "output_type": "display_data"
    }
   ],
   "source": [
    "import numpy as np\n",
    "import matplotlib.pyplot as plt\n",
    "size = np.pi\n",
    "\n",
    "fig = plt.figure(figsize = (12,4))\n",
    "ax = fig.add_subplot(131)\n",
    "ax2 = fig.add_subplot(132)\n",
    "ax3 = fig.add_subplot(133)\n",
    "\n",
    "\n",
    "# look at the energy plotted over the z=pi section\n",
    "\n",
    "xx = np.linspace(-np.pi, np.pi, 100)\n",
    "yy = np.linspace(-np.pi, np.pi, 100)\n",
    "\n",
    "[X,Y] = np.meshgrid(xx, yy)\n",
    "\n",
    "image1 = ax.contourf(xx,yy, np.squeeze(E_def_inXframe_numpy( X,Y,np.pi)))\n",
    "ax.set_xlabel('$x_1$')\n",
    "ax.set_ylabel('$x_2$', rotation=0)\n",
    "ax.set_title('$E_d(\\mathbf{x})$')\n",
    "plt.colorbar(image1, ax = ax)\n",
    "\n",
    "image2 = ax2.contourf(xx,xx, np.squeeze(E_def_inYframe_numpy_t0( X,Y,np.pi)))\n",
    "ax2.set_xlabel('$y_1$')\n",
    "ax2.set_ylabel('$y_2$', rotation=0)\n",
    "ax2.set_title('$\\\\hat{E}_d(\\mathbf{y},t=0)$')\n",
    "plt.colorbar(image2, ax = ax2)\n",
    "\n",
    "\n",
    "image3 = ax3.contourf(xx,xx, np.squeeze(E_def_inYframe_numpy_t1( X,Y,np.pi)))\n",
    "ax3.set_xlabel('$y_1$')\n",
    "ax3.set_ylabel('$y_2$', rotation=0)\n",
    "ax3.set_title('$\\\\hat{E}_d(\\mathbf{y},t=\\\\pi/10)$')\n",
    "plt.colorbar(image3, ax = ax3)\n"
   ]
  }
 ],
 "metadata": {
  "hide_input": false,
  "kernelspec": {
   "display_name": "Python 3 (ipykernel)",
   "language": "python",
   "name": "python3"
  },
  "language_info": {
   "codemirror_mode": {
    "name": "ipython",
    "version": 3
   },
   "file_extension": ".py",
   "mimetype": "text/x-python",
   "name": "python",
   "nbconvert_exporter": "python",
   "pygments_lexer": "ipython3",
   "version": "3.8.8"
  },
  "toc": {
   "base_numbering": 1,
   "nav_menu": {},
   "number_sections": true,
   "sideBar": true,
   "skip_h1_title": false,
   "title_cell": "Table of Contents",
   "title_sidebar": "Contents",
   "toc_cell": false,
   "toc_position": {},
   "toc_section_display": true,
   "toc_window_display": false
  }
 },
 "nbformat": 4,
 "nbformat_minor": 5
}
